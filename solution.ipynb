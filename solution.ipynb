import cv2
from deepface import DeepFace
img=cv2.imread("/content/image.jpeg")
import matplotlib.pyplot as plt
predictions=DeepFace.analyze(img)
#predictions['dominant_emotion']
faceCascade=cv2.CascadeClassifier(cv2.data.haarcascades + 'haarcascade_frontalface_default.xml')
gray =cv2.cvtColor(img,cv2.COLOR_BGR2GRAY)
faces = faceCascade.detectMultiScale(gray,1.1,4)
for(x,y,w,h) in faces:
  cv2.rectangle(img,(x,y),(x+w,y+h),(0,225,0),2)
font = cv2.FONT_HERSHEY_SIMPLEX
cv2.putText(img,predictions['dominant_emotion'],(0,50),font,2,(0,255,0),2,cv2.LINE_4)
plt.imshow(cv2.cvtColor(img,cv2.COLOR_BGR2RGB))
